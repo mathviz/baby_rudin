{
 "cells": [
  {
   "cell_type": "code",
   "execution_count": 1,
   "metadata": {},
   "outputs": [],
   "source": [
    "import math\n",
    "import numpy as np\n",
    "import random"
   ]
  },
  {
   "cell_type": "markdown",
   "metadata": {},
   "source": [
    "### Ordered Sets\n",
    "Suppose $S$ is an ordered set and $E \\subset S$. If there's exist a $\\beta \\in S$ such that $x \\leqslant \\beta$ for every $x \\in E$, we say that $E$ is **bounded above** and call $\\beta$ as an **upper bound** of $E$. "
   ]
  },
  {
   "cell_type": "code",
   "execution_count": 2,
   "metadata": {},
   "outputs": [
    {
     "name": "stdout",
     "output_type": "stream",
     "text": [
      "Ordered set S: [2, 3, 6, 10, 13, 14, 15, 18, 20]\n",
      "Subset E: [18]\n"
     ]
    }
   ],
   "source": [
    "def ordered_set():\n",
    "    \"\"\"This create an ordered set\"\"\"\n",
    "    ordered_set = set()\n",
    "    for _ in range(10):\n",
    "        number = random.randint(1, 20)\n",
    "        ordered_set.add(number)\n",
    "    return sorted(ordered_set)\n",
    "\n",
    "def sub_ordered_set(ordered_set):\n",
    "    \"\"\"This create a subset of an ordered set\"\"\"\n",
    "    subset = set()\n",
    "    for _ in range(random.randint(0, len(ordered_set))):\n",
    "        subset.add(random.choice(ordered_set))\n",
    "    return sorted(subset)\n",
    "\n",
    "S = ordered_set()\n",
    "print(f'Ordered set S: {S}')\n",
    "\n",
    "E = sub_ordered_set(S)\n",
    "print(f'Subset E: {E}')"
   ]
  },
  {
   "cell_type": "code",
   "execution_count": 3,
   "metadata": {},
   "outputs": [
    {
     "name": "stdout",
     "output_type": "stream",
     "text": [
      "|S| = 9\n",
      "|E| = 1\n"
     ]
    }
   ],
   "source": [
    "def cardinality(set):\n",
    "    return len(set)\n",
    "\n",
    "print(f'|S| = {cardinality(S)}')\n",
    "print(f'|E| = {cardinality(E)}')"
   ]
  },
  {
   "cell_type": "markdown",
   "metadata": {},
   "source": [
    "#### Upperbound"
   ]
  },
  {
   "cell_type": "code",
   "execution_count": 4,
   "metadata": {},
   "outputs": [
    {
     "name": "stdout",
     "output_type": "stream",
     "text": [
      "Upper bound of S: 20\n",
      "Upper bound of E: 18\n"
     ]
    }
   ],
   "source": [
    "def upper_bound(set):\n",
    "    if not set:\n",
    "        return None \n",
    "\n",
    "    return max(set)\n",
    "\n",
    "print(f'Upper bound of S: {upper_bound(S)}')\n",
    "print(f'Upper bound of E: {upper_bound(E)}')"
   ]
  },
  {
   "cell_type": "markdown",
   "metadata": {},
   "source": [
    "#### Lowerbound"
   ]
  },
  {
   "cell_type": "code",
   "execution_count": 5,
   "metadata": {},
   "outputs": [
    {
     "name": "stdout",
     "output_type": "stream",
     "text": [
      "Lower bound of S: 2\n",
      "Lower bound of E: 18\n"
     ]
    }
   ],
   "source": [
    "def lower_bound(set):\n",
    "    if not set:\n",
    "        return None \n",
    "    \n",
    "    return min(set)\n",
    "\n",
    "\n",
    "print(f'Lower bound of S: {lower_bound(S)}')\n",
    "print(f'Lower bound of E: {lower_bound(E)}')"
   ]
  },
  {
   "cell_type": "markdown",
   "metadata": {},
   "source": [
    "### The complex field"
   ]
  },
  {
   "cell_type": "markdown",
   "metadata": {},
   "source": [
    "Let $x = (a, b)$, $y = (c, d)$ be two complex numbers.\n",
    "$$x + y = (a + c,\\ b + d)$$\n",
    "$$xy = (ac - bd,\\ ad + bc)$$"
   ]
  },
  {
   "cell_type": "code",
   "execution_count": 6,
   "metadata": {},
   "outputs": [
    {
     "name": "stdout",
     "output_type": "stream",
     "text": [
      "a + b = (4+6j)\n",
      "ab = (-5+10j)\n"
     ]
    }
   ],
   "source": [
    "# In Python, 'j' stand for the imaginary part \n",
    "a = complex(1, 2)\n",
    "b = complex(3, 4)\n",
    "print(f'a + b = {a + b}')\n",
    "print(f'ab = {a * b}')"
   ]
  },
  {
   "cell_type": "code",
   "execution_count": 7,
   "metadata": {},
   "outputs": [
    {
     "name": "stdout",
     "output_type": "stream",
     "text": [
      "i = 1j\n",
      "i^2 = (-1+0j) = -1\n",
      "True\n"
     ]
    }
   ],
   "source": [
    "i = complex(0, 1)\n",
    "print(f'i = {i}')\n",
    "print(f'i^2 = {i*i} = -1')\n",
    "print(i*i == -1) # i^2 = -1"
   ]
  },
  {
   "cell_type": "markdown",
   "metadata": {},
   "source": [
    "### Euclidean spaces"
   ]
  },
  {
   "cell_type": "code",
   "execution_count": 8,
   "metadata": {},
   "outputs": [
    {
     "name": "stdout",
     "output_type": "stream",
     "text": [
      "x = [3 4 3 2 4]\n",
      "y = [1 1 3 2 3]\n"
     ]
    }
   ],
   "source": [
    "x = np.random.randint(0, 5, size=5)\n",
    "y = np.random.randint(0, 5, size=5)\n",
    "\n",
    "print(f'x = {x}')\n",
    "print(f'y = {y}')"
   ]
  },
  {
   "cell_type": "code",
   "execution_count": 9,
   "metadata": {},
   "outputs": [
    {
     "name": "stdout",
     "output_type": "stream",
     "text": [
      "x + y = [4 5 6 4 7]\n",
      "2x = [6 8 6 4 8]\n"
     ]
    }
   ],
   "source": [
    "print(f'x + y = {x + y}')\n",
    "print(f'2x = {2*x}')"
   ]
  },
  {
   "cell_type": "code",
   "execution_count": 10,
   "metadata": {},
   "outputs": [
    {
     "name": "stdout",
     "output_type": "stream",
     "text": [
      "Inner product of x and y: 32\n",
      "Or using numpy `inner` method: 32\n"
     ]
    }
   ],
   "source": [
    "def inner_product(x, y):\n",
    "    return sum(x * y)\n",
    "\n",
    "print(f'Inner product of x and y: {inner_product(x, y)}')\n",
    "print(f'Or using numpy `inner` method: {np.inner(x, y)}')"
   ]
  },
  {
   "cell_type": "code",
   "execution_count": 11,
   "metadata": {},
   "outputs": [
    {
     "name": "stdout",
     "output_type": "stream",
     "text": [
      "Norm of x: 7.3484692283495345\n",
      "Or using numpy `norm` method: 7.3484692283495345\n"
     ]
    }
   ],
   "source": [
    "def norm(x):\n",
    "    return math.sqrt(sum(x ** 2))\n",
    "\n",
    "print(f'Norm of x: {norm(x)}')\n",
    "print(f'Or using numpy `norm` method: {np.linalg.norm(x, 2)}')"
   ]
  }
 ],
 "metadata": {
  "kernelspec": {
   "display_name": "baby_rudin",
   "language": "python",
   "name": "python3"
  },
  "language_info": {
   "codemirror_mode": {
    "name": "ipython",
    "version": 3
   },
   "file_extension": ".py",
   "mimetype": "text/x-python",
   "name": "python",
   "nbconvert_exporter": "python",
   "pygments_lexer": "ipython3",
   "version": "3.10.6"
  },
  "orig_nbformat": 4
 },
 "nbformat": 4,
 "nbformat_minor": 2
}
