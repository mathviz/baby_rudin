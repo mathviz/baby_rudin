{
 "cells": [
  {
   "cell_type": "code",
   "execution_count": 1,
   "metadata": {},
   "outputs": [],
   "source": [
    "import matplotlib.pyplot as plt \n",
    "import math\n",
    "import latexify\n",
    "import numpy as np\n",
    "import random"
   ]
  },
  {
   "cell_type": "markdown",
   "metadata": {},
   "source": [
    "### Ordered Sets"
   ]
  },
  {
   "cell_type": "markdown",
   "metadata": {},
   "source": [
    "Bounded above: Suppose $S$ is an ordered set and $E$ is a subset of $S$. If there's exist a $\\beta$ (an element of $S$) such that $x \\leqslant \\beta,\\ \\forall x $ in the set $E$, we say that $E$ is **bounded above** and call $\\beta$ as an **upper bound** of $E$. "
   ]
  },
  {
   "cell_type": "code",
   "execution_count": 2,
   "metadata": {},
   "outputs": [
    {
     "name": "stdout",
     "output_type": "stream",
     "text": [
      "[2, 4, 14, 26, 27, 33, 60, 77, 89, 99]\n",
      "[4, 14, 26, 27, 33]\n"
     ]
    }
   ],
   "source": [
    "def ordered_set():\n",
    "    \"\"\"This create an ordered set\"\"\"\n",
    "    ordered_set = set()\n",
    "    for _ in range(10):\n",
    "        number = random.randint(1, 100)\n",
    "        ordered_set.add(number)\n",
    "    return sorted(ordered_set)\n",
    "\n",
    "def sub_ordered_set(ordered_set: set, start_index:int, end_index: int):\n",
    "    \"\"\"This create a subset of an ordered set\"\"\"\n",
    "    subset = set()\n",
    "    for i in range(start_index, end_index+1):\n",
    "        subset.add(ordered_set[i])\n",
    "    return sorted(subset)\n",
    "\n",
    "S = ordered_set()\n",
    "print(S)\n",
    "\n",
    "E = sub_ordered_set(S, 1, 5)\n",
    "print(E)"
   ]
  },
  {
   "cell_type": "markdown",
   "metadata": {},
   "source": [
    "#### Upperbound"
   ]
  },
  {
   "cell_type": "code",
   "execution_count": 3,
   "metadata": {},
   "outputs": [
    {
     "name": "stdout",
     "output_type": "stream",
     "text": [
      "[33, 60, 77, 89, 99]\n"
     ]
    }
   ],
   "source": [
    "def find_upper_bound(large_list, small_list):\n",
    "    if not large_list or not small_list:\n",
    "        return None  # Handle empty lists\n",
    "\n",
    "    # Get the maximum element from the smaller list\n",
    "    max_element_small = small_list[-1]\n",
    "\n",
    "    # Perform binary search to find the upper bound\n",
    "    left, right = 0, len(large_list) - 1\n",
    "    upper_bound_index = None\n",
    "\n",
    "    while left <= right:\n",
    "        mid = (left + right) // 2\n",
    "        mid_element = large_list[mid]\n",
    "\n",
    "        if mid_element >= max_element_small:\n",
    "            upper_bound_index = mid\n",
    "            right = mid - 1\n",
    "        else:\n",
    "            left = mid + 1\n",
    "\n",
    "    if upper_bound_index is not None:\n",
    "        return large_list[upper_bound_index:]\n",
    "    else:\n",
    "        return None  # No upper bound found\n",
    "\n",
    "upper_bound = find_upper_bound(S, E)\n",
    "print(upper_bound)"
   ]
  },
  {
   "cell_type": "markdown",
   "metadata": {},
   "source": [
    "#### Lowerbound"
   ]
  },
  {
   "cell_type": "code",
   "execution_count": 4,
   "metadata": {},
   "outputs": [
    {
     "name": "stdout",
     "output_type": "stream",
     "text": [
      "[2, 4]\n"
     ]
    }
   ],
   "source": [
    "def find_lower_bound(large_list, small_list):\n",
    "    if not large_list or not small_list:\n",
    "        return None  # Handle empty lists\n",
    "\n",
    "    # Get the minimum element from the smaller list\n",
    "    min_element_small = small_list[0]\n",
    "\n",
    "    # Perform binary search to find the lower bound\n",
    "    left, right = 0, len(large_list) - 1\n",
    "    lower_bound_index = None\n",
    "\n",
    "    while left <= right:\n",
    "        mid = (left + right) // 2\n",
    "        mid_element = large_list[mid]\n",
    "\n",
    "        if mid_element < min_element_small:\n",
    "            lower_bound_index = mid\n",
    "            left = mid + 1\n",
    "        else:\n",
    "            right = mid - 1\n",
    "\n",
    "    # Handle the case where no lower bound is found\n",
    "    if lower_bound_index is None:\n",
    "        return []\n",
    "\n",
    "    return large_list[:lower_bound_index + 2]\n",
    "\n",
    "lower_bound = find_lower_bound(S, E)\n",
    "print(lower_bound)"
   ]
  }
 ],
 "metadata": {
  "kernelspec": {
   "display_name": "baby_rudin",
   "language": "python",
   "name": "python3"
  },
  "language_info": {
   "codemirror_mode": {
    "name": "ipython",
    "version": 3
   },
   "file_extension": ".py",
   "mimetype": "text/x-python",
   "name": "python",
   "nbconvert_exporter": "python",
   "pygments_lexer": "ipython3",
   "version": "3.10.6"
  },
  "orig_nbformat": 4
 },
 "nbformat": 4,
 "nbformat_minor": 2
}
