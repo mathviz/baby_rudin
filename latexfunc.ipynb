{
 "cells": [
  {
   "cell_type": "markdown",
   "metadata": {},
   "source": [
    "### Introduce [latexify](https://github.com/google/latexify_py)\n",
    "A library to generate LaTeX expression from Python code.\n",
    "\n",
    "- [`latexify` documentation](https://github.com/google/latexify_py/blob/main/docs/index.md)"
   ]
  },
  {
   "cell_type": "code",
   "execution_count": 1,
   "metadata": {},
   "outputs": [],
   "source": [
    "import math\n",
    "import latexify"
   ]
  },
  {
   "cell_type": "code",
   "execution_count": 15,
   "metadata": {},
   "outputs": [
    {
     "name": "stdout",
     "output_type": "stream",
     "text": [
      "Function f:\n"
     ]
    },
    {
     "data": {
      "text/latex": [
       "$$ \\displaystyle \\mathrm{f}(x) = \\frac{-{1}}{x} $$"
      ],
      "text/plain": [
       "<latexify.frontend.LatexifiedFunction at 0x189df719c00>"
      ]
     },
     "execution_count": 15,
     "metadata": {},
     "output_type": "execute_result"
    }
   ],
   "source": [
    "@latexify.function\n",
    "def f(x):\n",
    "    return -1/x\n",
    "\n",
    "print('Function f:')\n",
    "f"
   ]
  },
  {
   "cell_type": "code",
   "execution_count": 20,
   "metadata": {},
   "outputs": [
    {
     "name": "stdout",
     "output_type": "stream",
     "text": [
      "Can render to LaTeX code: \\mathrm{f}(x) = \\frac{-{1}}{x}\n",
      "Some calculation: f(2) = -0.5\n"
     ]
    }
   ],
   "source": [
    "print(f'Can render to LaTeX code: {f}')\n",
    "print(f'Some calculation: f(2) = {f(2)}')"
   ]
  }
 ],
 "metadata": {
  "kernelspec": {
   "display_name": "baby_rudin",
   "language": "python",
   "name": "python3"
  },
  "language_info": {
   "codemirror_mode": {
    "name": "ipython",
    "version": 3
   },
   "file_extension": ".py",
   "mimetype": "text/x-python",
   "name": "python",
   "nbconvert_exporter": "python",
   "pygments_lexer": "ipython3",
   "version": "3.10.6"
  },
  "orig_nbformat": 4
 },
 "nbformat": 4,
 "nbformat_minor": 2
}
