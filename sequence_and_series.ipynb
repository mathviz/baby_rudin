{
 "cells": [
  {
   "cell_type": "code",
   "execution_count": 1,
   "metadata": {},
   "outputs": [],
   "source": [
    "import sympy as sym\n",
    "import pandas as pd \n",
    "import scienceplots\n",
    "import matplotlib.pyplot as plt \n",
    "import math\n",
    "import latexify"
   ]
  },
  {
   "cell_type": "markdown",
   "metadata": {},
   "source": [
    "We do care about what make a sequence different from a series. \n",
    "Some interest case is that sometime a sequence is also a series\n",
    "i.e The Fibbonacci"
   ]
  },
  {
   "cell_type": "code",
   "execution_count": 13,
   "metadata": {},
   "outputs": [
    {
     "name": "stdout",
     "output_type": "stream",
     "text": [
      "0\n",
      "[0, 1, 1, 2, 3, 5, 8, 13, 21, 34, 55, 89, 144, 233, 377]\n"
     ]
    }
   ],
   "source": [
    "@latexify.with_latex\n",
    "def fibonacci_series(n):\n",
    "  \"\"\"Returns the first n Fibonacci numbers.\"\"\"\n",
    "  if n == 0:\n",
    "    return []\n",
    "  elif n == 1:\n",
    "    return [0]\n",
    "  else:\n",
    "    fibs = [0, 1]\n",
    "    for i in range(2, n):\n",
    "      fibs.append(fibs[i - 1] + fibs[i - 2])\n",
    "    return fibs\n",
    "\n",
    "@latexify.with_latex\n",
    "def fibonacci_sequence(n):\n",
    "  \"\"\"Returns the first n Fibonacci numbers as a sequence.\"\"\"\n",
    "  fibs = fibonacci_series(n)\n",
    "  return iter(fibs)\n",
    "\n",
    "print(next(fibonacci_sequence(8)))\n",
    "print(fibonacci_series(15))"
   ]
  },
  {
   "cell_type": "code",
   "execution_count": null,
   "metadata": {},
   "outputs": [],
   "source": []
  },
  {
   "cell_type": "code",
   "execution_count": 7,
   "metadata": {},
   "outputs": [],
   "source": [
    "def plot_func(list):\n",
    "    plt.plot(list)\n",
    "\n",
    "    plt.ylim([0, max(list)])\n",
    "\n",
    "    plt.title(\"1/n sequence\")\n",
    "\n",
    "    plt.show()"
   ]
  },
  {
   "cell_type": "code",
   "execution_count": 3,
   "metadata": {},
   "outputs": [],
   "source": [
    "def f_1(x):\n",
    "    return float (1/x)"
   ]
  },
  {
   "cell_type": "code",
   "execution_count": 8,
   "metadata": {},
   "outputs": [
    {
     "data": {
      "image/png": "[encoded data removed]",
      "text/plain": [
       "<Figure size 640x480 with 1 Axes>"
      ]
     },
     "metadata": {},
     "output_type": "display_data"
    }
   ],
   "source": [
    "list_f1 = []\n",
    "for i in range(1,100):\n",
    "    list_f1.append(f_1(i))\n",
    "\n",
    "plot_func(list_f1)"
   ]
  },
  {
   "cell_type": "code",
   "execution_count": 10,
   "metadata": {},
   "outputs": [
    {
     "name": "stdout",
     "output_type": "stream",
     "text": [
      "True\n"
     ]
    }
   ],
   "source": [
    "#Beside the need of checking by hand, we can\n",
    "#also check if the function is converge:\n",
    "def is_converged(function, x0, tolerance):\n",
    "  \"\"\"\n",
    "  Checks whether the function converges at some point.\n",
    "\n",
    "  Args:\n",
    "    function: The function to check.\n",
    "    x0: The initial value.\n",
    "    tolerance: The tolerance.\n",
    "\n",
    "  Returns:\n",
    "    True if the function converges, False otherwise.\n",
    "  \"\"\"\n",
    "\n",
    "  x = x0\n",
    "  for i in range(100):\n",
    "    x_new = function(x)\n",
    "    if abs(x_new - x) < tolerance:\n",
    "      return True\n",
    "    x = x_new\n",
    "  return False\n",
    "\n",
    "print(is_converged(f_1, x0=1.0, tolerance=1e-6))\n"
   ]
  },
  {
   "cell_type": "markdown",
   "metadata": {},
   "source": [
    "Now we do care about the subsequence of a sequence"
   ]
  },
  {
   "cell_type": "code",
   "execution_count": 1,
   "metadata": {},
   "outputs": [],
   "source": [
    "def f_2(x):\n",
    "    return 1 + ((-1)**x)/x"
   ]
  },
  {
   "cell_type": "code",
   "execution_count": null,
   "metadata": {},
   "outputs": [],
   "source": [
    "sequence = []\n",
    "for n in range(1, 150):\n",
    "    value = f_2(n)\n",
    "    sequence.append(value)\n",
    "print(sequence)"
   ]
  },
  {
   "cell_type": "code",
   "execution_count": null,
   "metadata": {},
   "outputs": [],
   "source": [
    "def create_subsequence(sequence, start_index, end_index):\n",
    "  \"\"\"\n",
    "  Creates a subsequence of a sequence.\n",
    "\n",
    "  Args:\n",
    "    sequence: The sequence to create a subsequence from.\n",
    "    start_index: The start index of the subsequence.\n",
    "    end_index: The end index of the subsequence.\n",
    "\n",
    "  Returns:\n",
    "    The subsequence.\n",
    "  \"\"\"\n",
    "\n",
    "  subsequence = []\n",
    "  for i in range(start_index, end_index + 1):\n",
    "    subsequence.append(sequence[i])\n",
    "  return subsequence"
   ]
  },
  {
   "cell_type": "code",
   "execution_count": null,
   "metadata": {},
   "outputs": [],
   "source": []
  }
 ],
 "metadata": {
  "kernelspec": {
   "display_name": "baby_rudin",
   "language": "python",
   "name": "python3"
  },
  "language_info": {
   "codemirror_mode": {
    "name": "ipython",
    "version": 3
   },
   "file_extension": ".py",
   "mimetype": "text/x-python",
   "name": "python",
   "nbconvert_exporter": "python",
   "pygments_lexer": "ipython3",
   "version": "3.10.0"
  },
  "orig_nbformat": 4
 },
 "nbformat": 4,
 "nbformat_minor": 2
}
